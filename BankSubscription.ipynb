{
 "cells": [
  {
   "cell_type": "code",
   "execution_count": 1,
   "id": "2e9412f6",
   "metadata": {},
   "outputs": [],
   "source": [
    "import pandas as pd\n",
    "import numpy as np\n",
    "import matplotlib.pyplot as plt\n",
    "import seaborn as sns\n",
    "import warnings\n",
    "warnings .filterwarnings('ignore')"
   ]
  },
  {
   "cell_type": "code",
   "execution_count": 2,
   "id": "8eef68ce",
   "metadata": {},
   "outputs": [
    {
     "data": {
      "text/html": [
       "<div>\n",
       "<style scoped>\n",
       "    .dataframe tbody tr th:only-of-type {\n",
       "        vertical-align: middle;\n",
       "    }\n",
       "\n",
       "    .dataframe tbody tr th {\n",
       "        vertical-align: top;\n",
       "    }\n",
       "\n",
       "    .dataframe thead th {\n",
       "        text-align: right;\n",
       "    }\n",
       "</style>\n",
       "<table border=\"1\" class=\"dataframe\">\n",
       "  <thead>\n",
       "    <tr style=\"text-align: right;\">\n",
       "      <th></th>\n",
       "      <th>age</th>\n",
       "      <th>job</th>\n",
       "      <th>marital</th>\n",
       "      <th>education</th>\n",
       "      <th>default</th>\n",
       "      <th>housing</th>\n",
       "      <th>loan</th>\n",
       "      <th>contact</th>\n",
       "      <th>month</th>\n",
       "      <th>day_of_week</th>\n",
       "      <th>...</th>\n",
       "      <th>campaign</th>\n",
       "      <th>pdays</th>\n",
       "      <th>previous</th>\n",
       "      <th>poutcome</th>\n",
       "      <th>emp.var.rate</th>\n",
       "      <th>cons.price.idx</th>\n",
       "      <th>cons.conf.idx</th>\n",
       "      <th>euribor3m</th>\n",
       "      <th>nr.employed</th>\n",
       "      <th>y</th>\n",
       "    </tr>\n",
       "  </thead>\n",
       "  <tbody>\n",
       "    <tr>\n",
       "      <th>0</th>\n",
       "      <td>56.0</td>\n",
       "      <td>housemaid</td>\n",
       "      <td>married</td>\n",
       "      <td>basic.4y</td>\n",
       "      <td>no</td>\n",
       "      <td>no</td>\n",
       "      <td>no</td>\n",
       "      <td>telephone</td>\n",
       "      <td>may</td>\n",
       "      <td>mon</td>\n",
       "      <td>...</td>\n",
       "      <td>1.0</td>\n",
       "      <td>999.0</td>\n",
       "      <td>0.0</td>\n",
       "      <td>nonexistent</td>\n",
       "      <td>1.1</td>\n",
       "      <td>93.994</td>\n",
       "      <td>-36.4</td>\n",
       "      <td>4.857</td>\n",
       "      <td>5191.0</td>\n",
       "      <td>no</td>\n",
       "    </tr>\n",
       "    <tr>\n",
       "      <th>1</th>\n",
       "      <td>57.0</td>\n",
       "      <td>services</td>\n",
       "      <td>married</td>\n",
       "      <td>high.school</td>\n",
       "      <td>unknown</td>\n",
       "      <td>no</td>\n",
       "      <td>no</td>\n",
       "      <td>telephone</td>\n",
       "      <td>may</td>\n",
       "      <td>mon</td>\n",
       "      <td>...</td>\n",
       "      <td>1.0</td>\n",
       "      <td>999.0</td>\n",
       "      <td>0.0</td>\n",
       "      <td>nonexistent</td>\n",
       "      <td>1.1</td>\n",
       "      <td>93.994</td>\n",
       "      <td>-36.4</td>\n",
       "      <td>4.857</td>\n",
       "      <td>5191.0</td>\n",
       "      <td>no</td>\n",
       "    </tr>\n",
       "    <tr>\n",
       "      <th>2</th>\n",
       "      <td>37.0</td>\n",
       "      <td>services</td>\n",
       "      <td>married</td>\n",
       "      <td>high.school</td>\n",
       "      <td>no</td>\n",
       "      <td>yes</td>\n",
       "      <td>no</td>\n",
       "      <td>telephone</td>\n",
       "      <td>may</td>\n",
       "      <td>mon</td>\n",
       "      <td>...</td>\n",
       "      <td>1.0</td>\n",
       "      <td>999.0</td>\n",
       "      <td>0.0</td>\n",
       "      <td>nonexistent</td>\n",
       "      <td>1.1</td>\n",
       "      <td>93.994</td>\n",
       "      <td>-36.4</td>\n",
       "      <td>4.857</td>\n",
       "      <td>5191.0</td>\n",
       "      <td>no</td>\n",
       "    </tr>\n",
       "    <tr>\n",
       "      <th>3</th>\n",
       "      <td>40.0</td>\n",
       "      <td>admin.</td>\n",
       "      <td>married</td>\n",
       "      <td>basic.6y</td>\n",
       "      <td>no</td>\n",
       "      <td>no</td>\n",
       "      <td>no</td>\n",
       "      <td>telephone</td>\n",
       "      <td>may</td>\n",
       "      <td>mon</td>\n",
       "      <td>...</td>\n",
       "      <td>1.0</td>\n",
       "      <td>999.0</td>\n",
       "      <td>0.0</td>\n",
       "      <td>nonexistent</td>\n",
       "      <td>1.1</td>\n",
       "      <td>93.994</td>\n",
       "      <td>-36.4</td>\n",
       "      <td>4.857</td>\n",
       "      <td>5191.0</td>\n",
       "      <td>no</td>\n",
       "    </tr>\n",
       "    <tr>\n",
       "      <th>4</th>\n",
       "      <td>56.0</td>\n",
       "      <td>services</td>\n",
       "      <td>married</td>\n",
       "      <td>high.school</td>\n",
       "      <td>no</td>\n",
       "      <td>no</td>\n",
       "      <td>yes</td>\n",
       "      <td>telephone</td>\n",
       "      <td>may</td>\n",
       "      <td>mon</td>\n",
       "      <td>...</td>\n",
       "      <td>1.0</td>\n",
       "      <td>999.0</td>\n",
       "      <td>0.0</td>\n",
       "      <td>nonexistent</td>\n",
       "      <td>1.1</td>\n",
       "      <td>93.994</td>\n",
       "      <td>-36.4</td>\n",
       "      <td>4.857</td>\n",
       "      <td>5191.0</td>\n",
       "      <td>no</td>\n",
       "    </tr>\n",
       "  </tbody>\n",
       "</table>\n",
       "<p>5 rows × 21 columns</p>\n",
       "</div>"
      ],
      "text/plain": [
       "    age        job  marital    education  default housing loan    contact  \\\n",
       "0  56.0  housemaid  married     basic.4y       no      no   no  telephone   \n",
       "1  57.0   services  married  high.school  unknown      no   no  telephone   \n",
       "2  37.0   services  married  high.school       no     yes   no  telephone   \n",
       "3  40.0     admin.  married     basic.6y       no      no   no  telephone   \n",
       "4  56.0   services  married  high.school       no      no  yes  telephone   \n",
       "\n",
       "  month day_of_week  ...  campaign  pdays  previous     poutcome emp.var.rate  \\\n",
       "0   may         mon  ...       1.0  999.0       0.0  nonexistent          1.1   \n",
       "1   may         mon  ...       1.0  999.0       0.0  nonexistent          1.1   \n",
       "2   may         mon  ...       1.0  999.0       0.0  nonexistent          1.1   \n",
       "3   may         mon  ...       1.0  999.0       0.0  nonexistent          1.1   \n",
       "4   may         mon  ...       1.0  999.0       0.0  nonexistent          1.1   \n",
       "\n",
       "   cons.price.idx  cons.conf.idx  euribor3m  nr.employed   y  \n",
       "0          93.994          -36.4      4.857       5191.0  no  \n",
       "1          93.994          -36.4      4.857       5191.0  no  \n",
       "2          93.994          -36.4      4.857       5191.0  no  \n",
       "3          93.994          -36.4      4.857       5191.0  no  \n",
       "4          93.994          -36.4      4.857       5191.0  no  \n",
       "\n",
       "[5 rows x 21 columns]"
      ]
     },
     "execution_count": 2,
     "metadata": {},
     "output_type": "execute_result"
    }
   ],
   "source": [
    "#importing the data\n",
    "\n",
    "df = pd.read_csv('bank-additional-full (3) (1).csv',sep=';', header=0)\n",
    "df.head()"
   ]
  },
  {
   "cell_type": "code",
   "execution_count": 3,
   "id": "1c9f33dc",
   "metadata": {},
   "outputs": [],
   "source": [
    "#changing the columns name so we \n",
    "\n",
    "\n",
    "df.rename(columns={\n",
    "    \"age\": \"Age\",\n",
    "    \"job\": \"Job\",\n",
    "    \"marital\": \"Marital Status\",\n",
    "    \"education\": \"Education\",\n",
    "    \"default\": \"Has Default\",\n",
    "    \"housing\": \"Housing Loan\",\n",
    "    \"loan\": \"Personal Loan\",\n",
    "    \"contact\": \"Contact Type\",\n",
    "    \"month\": \"Last Contact Month\",\n",
    "    \"day_of_week\": \"Last Contact Day\",\n",
    "    \"duration\": \"Contact Duration (sec)\",\n",
    "    \"campaign\": \"Campaign Contacts\",\n",
    "    \"pdays\": \"Days Since Prev Contact\",\n",
    "    \"previous\": \"Prev Campaign Contacts\",\n",
    "    \"poutcome\": \"Prev Campaign Outcome\",\n",
    "    \"emp.var.rate\": \"Employment Variation Rate\",\n",
    "    \"cons.price.idx\": \"Consumer Price Index\",\n",
    "    \"cons.conf.idx\": \"Consumer Confidence Index\",\n",
    "    \"euribor3m\": \"Euribor 3-month Rate\",\n",
    "    \"nr.employed\": \"No. of Employees\",\n",
    "    \"y\": \"Subscribed\"\n",
    "}, inplace=True)"
   ]
  },
  {
   "cell_type": "code",
   "execution_count": 4,
   "id": "dd6fd8ac",
   "metadata": {},
   "outputs": [
    {
     "data": {
      "text/html": [
       "<div>\n",
       "<style scoped>\n",
       "    .dataframe tbody tr th:only-of-type {\n",
       "        vertical-align: middle;\n",
       "    }\n",
       "\n",
       "    .dataframe tbody tr th {\n",
       "        vertical-align: top;\n",
       "    }\n",
       "\n",
       "    .dataframe thead th {\n",
       "        text-align: right;\n",
       "    }\n",
       "</style>\n",
       "<table border=\"1\" class=\"dataframe\">\n",
       "  <thead>\n",
       "    <tr style=\"text-align: right;\">\n",
       "      <th></th>\n",
       "      <th>Age</th>\n",
       "      <th>Job</th>\n",
       "      <th>Marital Status</th>\n",
       "      <th>Education</th>\n",
       "      <th>Has Default</th>\n",
       "      <th>Housing Loan</th>\n",
       "      <th>Personal Loan</th>\n",
       "      <th>Contact Type</th>\n",
       "      <th>Last Contact Month</th>\n",
       "      <th>Last Contact Day</th>\n",
       "      <th>...</th>\n",
       "      <th>Campaign Contacts</th>\n",
       "      <th>Days Since Prev Contact</th>\n",
       "      <th>Prev Campaign Contacts</th>\n",
       "      <th>Prev Campaign Outcome</th>\n",
       "      <th>Employment Variation Rate</th>\n",
       "      <th>Consumer Price Index</th>\n",
       "      <th>Consumer Confidence Index</th>\n",
       "      <th>Euribor 3-month Rate</th>\n",
       "      <th>No. of Employees</th>\n",
       "      <th>Subscribed</th>\n",
       "    </tr>\n",
       "  </thead>\n",
       "  <tbody>\n",
       "    <tr>\n",
       "      <th>0</th>\n",
       "      <td>56.0</td>\n",
       "      <td>housemaid</td>\n",
       "      <td>married</td>\n",
       "      <td>basic.4y</td>\n",
       "      <td>no</td>\n",
       "      <td>no</td>\n",
       "      <td>no</td>\n",
       "      <td>telephone</td>\n",
       "      <td>may</td>\n",
       "      <td>mon</td>\n",
       "      <td>...</td>\n",
       "      <td>1.0</td>\n",
       "      <td>999.0</td>\n",
       "      <td>0.0</td>\n",
       "      <td>nonexistent</td>\n",
       "      <td>1.1</td>\n",
       "      <td>93.994</td>\n",
       "      <td>-36.4</td>\n",
       "      <td>4.857</td>\n",
       "      <td>5191.0</td>\n",
       "      <td>no</td>\n",
       "    </tr>\n",
       "    <tr>\n",
       "      <th>1</th>\n",
       "      <td>57.0</td>\n",
       "      <td>services</td>\n",
       "      <td>married</td>\n",
       "      <td>high.school</td>\n",
       "      <td>unknown</td>\n",
       "      <td>no</td>\n",
       "      <td>no</td>\n",
       "      <td>telephone</td>\n",
       "      <td>may</td>\n",
       "      <td>mon</td>\n",
       "      <td>...</td>\n",
       "      <td>1.0</td>\n",
       "      <td>999.0</td>\n",
       "      <td>0.0</td>\n",
       "      <td>nonexistent</td>\n",
       "      <td>1.1</td>\n",
       "      <td>93.994</td>\n",
       "      <td>-36.4</td>\n",
       "      <td>4.857</td>\n",
       "      <td>5191.0</td>\n",
       "      <td>no</td>\n",
       "    </tr>\n",
       "    <tr>\n",
       "      <th>2</th>\n",
       "      <td>37.0</td>\n",
       "      <td>services</td>\n",
       "      <td>married</td>\n",
       "      <td>high.school</td>\n",
       "      <td>no</td>\n",
       "      <td>yes</td>\n",
       "      <td>no</td>\n",
       "      <td>telephone</td>\n",
       "      <td>may</td>\n",
       "      <td>mon</td>\n",
       "      <td>...</td>\n",
       "      <td>1.0</td>\n",
       "      <td>999.0</td>\n",
       "      <td>0.0</td>\n",
       "      <td>nonexistent</td>\n",
       "      <td>1.1</td>\n",
       "      <td>93.994</td>\n",
       "      <td>-36.4</td>\n",
       "      <td>4.857</td>\n",
       "      <td>5191.0</td>\n",
       "      <td>no</td>\n",
       "    </tr>\n",
       "    <tr>\n",
       "      <th>3</th>\n",
       "      <td>40.0</td>\n",
       "      <td>admin.</td>\n",
       "      <td>married</td>\n",
       "      <td>basic.6y</td>\n",
       "      <td>no</td>\n",
       "      <td>no</td>\n",
       "      <td>no</td>\n",
       "      <td>telephone</td>\n",
       "      <td>may</td>\n",
       "      <td>mon</td>\n",
       "      <td>...</td>\n",
       "      <td>1.0</td>\n",
       "      <td>999.0</td>\n",
       "      <td>0.0</td>\n",
       "      <td>nonexistent</td>\n",
       "      <td>1.1</td>\n",
       "      <td>93.994</td>\n",
       "      <td>-36.4</td>\n",
       "      <td>4.857</td>\n",
       "      <td>5191.0</td>\n",
       "      <td>no</td>\n",
       "    </tr>\n",
       "    <tr>\n",
       "      <th>4</th>\n",
       "      <td>56.0</td>\n",
       "      <td>services</td>\n",
       "      <td>married</td>\n",
       "      <td>high.school</td>\n",
       "      <td>no</td>\n",
       "      <td>no</td>\n",
       "      <td>yes</td>\n",
       "      <td>telephone</td>\n",
       "      <td>may</td>\n",
       "      <td>mon</td>\n",
       "      <td>...</td>\n",
       "      <td>1.0</td>\n",
       "      <td>999.0</td>\n",
       "      <td>0.0</td>\n",
       "      <td>nonexistent</td>\n",
       "      <td>1.1</td>\n",
       "      <td>93.994</td>\n",
       "      <td>-36.4</td>\n",
       "      <td>4.857</td>\n",
       "      <td>5191.0</td>\n",
       "      <td>no</td>\n",
       "    </tr>\n",
       "  </tbody>\n",
       "</table>\n",
       "<p>5 rows × 21 columns</p>\n",
       "</div>"
      ],
      "text/plain": [
       "    Age        Job Marital Status    Education Has Default Housing Loan  \\\n",
       "0  56.0  housemaid        married     basic.4y          no           no   \n",
       "1  57.0   services        married  high.school     unknown           no   \n",
       "2  37.0   services        married  high.school          no          yes   \n",
       "3  40.0     admin.        married     basic.6y          no           no   \n",
       "4  56.0   services        married  high.school          no           no   \n",
       "\n",
       "  Personal Loan Contact Type Last Contact Month Last Contact Day  ...  \\\n",
       "0            no    telephone                may              mon  ...   \n",
       "1            no    telephone                may              mon  ...   \n",
       "2            no    telephone                may              mon  ...   \n",
       "3            no    telephone                may              mon  ...   \n",
       "4           yes    telephone                may              mon  ...   \n",
       "\n",
       "   Campaign Contacts  Days Since Prev Contact  Prev Campaign Contacts  \\\n",
       "0                1.0                    999.0                     0.0   \n",
       "1                1.0                    999.0                     0.0   \n",
       "2                1.0                    999.0                     0.0   \n",
       "3                1.0                    999.0                     0.0   \n",
       "4                1.0                    999.0                     0.0   \n",
       "\n",
       "   Prev Campaign Outcome Employment Variation Rate  Consumer Price Index  \\\n",
       "0            nonexistent                       1.1                93.994   \n",
       "1            nonexistent                       1.1                93.994   \n",
       "2            nonexistent                       1.1                93.994   \n",
       "3            nonexistent                       1.1                93.994   \n",
       "4            nonexistent                       1.1                93.994   \n",
       "\n",
       "   Consumer Confidence Index  Euribor 3-month Rate  No. of Employees  \\\n",
       "0                      -36.4                 4.857            5191.0   \n",
       "1                      -36.4                 4.857            5191.0   \n",
       "2                      -36.4                 4.857            5191.0   \n",
       "3                      -36.4                 4.857            5191.0   \n",
       "4                      -36.4                 4.857            5191.0   \n",
       "\n",
       "   Subscribed  \n",
       "0          no  \n",
       "1          no  \n",
       "2          no  \n",
       "3          no  \n",
       "4          no  \n",
       "\n",
       "[5 rows x 21 columns]"
      ]
     },
     "execution_count": 4,
     "metadata": {},
     "output_type": "execute_result"
    }
   ],
   "source": [
    "df.head()"
   ]
  },
  {
   "cell_type": "code",
   "execution_count": 5,
   "id": "0c4ca058",
   "metadata": {},
   "outputs": [
    {
     "name": "stdout",
     "output_type": "stream",
     "text": [
      "<class 'pandas.core.frame.DataFrame'>\n",
      "RangeIndex: 41199 entries, 0 to 41198\n",
      "Data columns (total 21 columns):\n",
      " #   Column                     Non-Null Count  Dtype  \n",
      "---  ------                     --------------  -----  \n",
      " 0   Age                        41195 non-null  float64\n",
      " 1   Job                        41194 non-null  object \n",
      " 2   Marital Status             41194 non-null  object \n",
      " 3   Education                  41194 non-null  object \n",
      " 4   Has Default                41195 non-null  object \n",
      " 5   Housing Loan               41196 non-null  object \n",
      " 6   Personal Loan              41195 non-null  object \n",
      " 7   Contact Type               41195 non-null  object \n",
      " 8   Last Contact Month         41196 non-null  object \n",
      " 9   Last Contact Day           41196 non-null  object \n",
      " 10  Contact Duration (sec)     41196 non-null  float64\n",
      " 11  Campaign Contacts          41196 non-null  float64\n",
      " 12  Days Since Prev Contact    41196 non-null  float64\n",
      " 13  Prev Campaign Contacts     41196 non-null  float64\n",
      " 14  Prev Campaign Outcome      41194 non-null  object \n",
      " 15  Employment Variation Rate  41196 non-null  float64\n",
      " 16  Consumer Price Index       41195 non-null  float64\n",
      " 17  Consumer Confidence Index  41196 non-null  float64\n",
      " 18  Euribor 3-month Rate       41196 non-null  float64\n",
      " 19  No. of Employees           41196 non-null  float64\n",
      " 20  Subscribed                 41196 non-null  object \n",
      "dtypes: float64(10), object(11)\n",
      "memory usage: 6.6+ MB\n"
     ]
    }
   ],
   "source": [
    "df.info()\n"
   ]
  },
  {
   "cell_type": "code",
   "execution_count": 6,
   "id": "2739fc09",
   "metadata": {},
   "outputs": [
    {
     "data": {
      "text/plain": [
       "Age                          4\n",
       "Job                          5\n",
       "Marital Status               5\n",
       "Education                    5\n",
       "Has Default                  4\n",
       "Housing Loan                 3\n",
       "Personal Loan                4\n",
       "Contact Type                 4\n",
       "Last Contact Month           3\n",
       "Last Contact Day             3\n",
       "Contact Duration (sec)       3\n",
       "Campaign Contacts            3\n",
       "Days Since Prev Contact      3\n",
       "Prev Campaign Contacts       3\n",
       "Prev Campaign Outcome        5\n",
       "Employment Variation Rate    3\n",
       "Consumer Price Index         4\n",
       "Consumer Confidence Index    3\n",
       "Euribor 3-month Rate         3\n",
       "No. of Employees             3\n",
       "Subscribed                   3\n",
       "dtype: int64"
      ]
     },
     "execution_count": 6,
     "metadata": {},
     "output_type": "execute_result"
    }
   ],
   "source": [
    "df.isnull().sum()"
   ]
  },
  {
   "cell_type": "code",
   "execution_count": 7,
   "id": "a924c759",
   "metadata": {},
   "outputs": [
    {
     "data": {
      "text/plain": [
       "15"
      ]
     },
     "execution_count": 7,
     "metadata": {},
     "output_type": "execute_result"
    }
   ],
   "source": [
    "df.duplicated().sum()"
   ]
  },
  {
   "cell_type": "code",
   "execution_count": 8,
   "id": "4b7496fd",
   "metadata": {},
   "outputs": [
    {
     "data": {
      "text/html": [
       "<div>\n",
       "<style scoped>\n",
       "    .dataframe tbody tr th:only-of-type {\n",
       "        vertical-align: middle;\n",
       "    }\n",
       "\n",
       "    .dataframe tbody tr th {\n",
       "        vertical-align: top;\n",
       "    }\n",
       "\n",
       "    .dataframe thead th {\n",
       "        text-align: right;\n",
       "    }\n",
       "</style>\n",
       "<table border=\"1\" class=\"dataframe\">\n",
       "  <thead>\n",
       "    <tr style=\"text-align: right;\">\n",
       "      <th></th>\n",
       "      <th>Age</th>\n",
       "      <th>Contact Duration (sec)</th>\n",
       "      <th>Campaign Contacts</th>\n",
       "      <th>Days Since Prev Contact</th>\n",
       "      <th>Prev Campaign Contacts</th>\n",
       "      <th>Employment Variation Rate</th>\n",
       "      <th>Consumer Price Index</th>\n",
       "      <th>Consumer Confidence Index</th>\n",
       "      <th>Euribor 3-month Rate</th>\n",
       "      <th>No. of Employees</th>\n",
       "    </tr>\n",
       "  </thead>\n",
       "  <tbody>\n",
       "    <tr>\n",
       "      <th>count</th>\n",
       "      <td>41195.000000</td>\n",
       "      <td>41196.000000</td>\n",
       "      <td>41196.000000</td>\n",
       "      <td>41196.000000</td>\n",
       "      <td>41196.000000</td>\n",
       "      <td>41196.000000</td>\n",
       "      <td>41195.000000</td>\n",
       "      <td>41196.000000</td>\n",
       "      <td>41196.000000</td>\n",
       "      <td>41196.000000</td>\n",
       "    </tr>\n",
       "    <tr>\n",
       "      <th>mean</th>\n",
       "      <td>40.030319</td>\n",
       "      <td>258.281265</td>\n",
       "      <td>2.567676</td>\n",
       "      <td>962.482547</td>\n",
       "      <td>0.173124</td>\n",
       "      <td>0.081656</td>\n",
       "      <td>93.575867</td>\n",
       "      <td>-40.504600</td>\n",
       "      <td>3.620787</td>\n",
       "      <td>5166.996405</td>\n",
       "    </tr>\n",
       "    <tr>\n",
       "      <th>std</th>\n",
       "      <td>10.431818</td>\n",
       "      <td>259.254211</td>\n",
       "      <td>2.769751</td>\n",
       "      <td>186.893451</td>\n",
       "      <td>0.494987</td>\n",
       "      <td>1.570894</td>\n",
       "      <td>0.578999</td>\n",
       "      <td>4.629972</td>\n",
       "      <td>1.734655</td>\n",
       "      <td>72.300104</td>\n",
       "    </tr>\n",
       "    <tr>\n",
       "      <th>min</th>\n",
       "      <td>17.000000</td>\n",
       "      <td>0.000000</td>\n",
       "      <td>1.000000</td>\n",
       "      <td>0.000000</td>\n",
       "      <td>0.000000</td>\n",
       "      <td>-3.400000</td>\n",
       "      <td>92.201000</td>\n",
       "      <td>-50.800000</td>\n",
       "      <td>0.634000</td>\n",
       "      <td>4963.600000</td>\n",
       "    </tr>\n",
       "    <tr>\n",
       "      <th>25%</th>\n",
       "      <td>32.000000</td>\n",
       "      <td>102.000000</td>\n",
       "      <td>1.000000</td>\n",
       "      <td>999.000000</td>\n",
       "      <td>0.000000</td>\n",
       "      <td>-1.800000</td>\n",
       "      <td>93.075000</td>\n",
       "      <td>-42.700000</td>\n",
       "      <td>1.344000</td>\n",
       "      <td>5099.100000</td>\n",
       "    </tr>\n",
       "    <tr>\n",
       "      <th>50%</th>\n",
       "      <td>38.000000</td>\n",
       "      <td>180.000000</td>\n",
       "      <td>2.000000</td>\n",
       "      <td>999.000000</td>\n",
       "      <td>0.000000</td>\n",
       "      <td>1.100000</td>\n",
       "      <td>93.749000</td>\n",
       "      <td>-41.800000</td>\n",
       "      <td>4.857000</td>\n",
       "      <td>5191.000000</td>\n",
       "    </tr>\n",
       "    <tr>\n",
       "      <th>75%</th>\n",
       "      <td>47.000000</td>\n",
       "      <td>319.000000</td>\n",
       "      <td>3.000000</td>\n",
       "      <td>999.000000</td>\n",
       "      <td>0.000000</td>\n",
       "      <td>1.400000</td>\n",
       "      <td>93.994000</td>\n",
       "      <td>-36.400000</td>\n",
       "      <td>4.961000</td>\n",
       "      <td>5228.100000</td>\n",
       "    </tr>\n",
       "    <tr>\n",
       "      <th>max</th>\n",
       "      <td>98.000000</td>\n",
       "      <td>4918.000000</td>\n",
       "      <td>56.000000</td>\n",
       "      <td>999.000000</td>\n",
       "      <td>7.000000</td>\n",
       "      <td>1.400000</td>\n",
       "      <td>94.767000</td>\n",
       "      <td>-26.900000</td>\n",
       "      <td>5.045000</td>\n",
       "      <td>5228.100000</td>\n",
       "    </tr>\n",
       "  </tbody>\n",
       "</table>\n",
       "</div>"
      ],
      "text/plain": [
       "                Age  Contact Duration (sec)  Campaign Contacts  \\\n",
       "count  41195.000000            41196.000000       41196.000000   \n",
       "mean      40.030319              258.281265           2.567676   \n",
       "std       10.431818              259.254211           2.769751   \n",
       "min       17.000000                0.000000           1.000000   \n",
       "25%       32.000000              102.000000           1.000000   \n",
       "50%       38.000000              180.000000           2.000000   \n",
       "75%       47.000000              319.000000           3.000000   \n",
       "max       98.000000             4918.000000          56.000000   \n",
       "\n",
       "       Days Since Prev Contact  Prev Campaign Contacts  \\\n",
       "count             41196.000000            41196.000000   \n",
       "mean                962.482547                0.173124   \n",
       "std                 186.893451                0.494987   \n",
       "min                   0.000000                0.000000   \n",
       "25%                 999.000000                0.000000   \n",
       "50%                 999.000000                0.000000   \n",
       "75%                 999.000000                0.000000   \n",
       "max                 999.000000                7.000000   \n",
       "\n",
       "       Employment Variation Rate  Consumer Price Index  \\\n",
       "count               41196.000000          41195.000000   \n",
       "mean                    0.081656             93.575867   \n",
       "std                     1.570894              0.578999   \n",
       "min                    -3.400000             92.201000   \n",
       "25%                    -1.800000             93.075000   \n",
       "50%                     1.100000             93.749000   \n",
       "75%                     1.400000             93.994000   \n",
       "max                     1.400000             94.767000   \n",
       "\n",
       "       Consumer Confidence Index  Euribor 3-month Rate  No. of Employees  \n",
       "count               41196.000000          41196.000000      41196.000000  \n",
       "mean                  -40.504600              3.620787       5166.996405  \n",
       "std                     4.629972              1.734655         72.300104  \n",
       "min                   -50.800000              0.634000       4963.600000  \n",
       "25%                   -42.700000              1.344000       5099.100000  \n",
       "50%                   -41.800000              4.857000       5191.000000  \n",
       "75%                   -36.400000              4.961000       5228.100000  \n",
       "max                   -26.900000              5.045000       5228.100000  "
      ]
     },
     "execution_count": 8,
     "metadata": {},
     "output_type": "execute_result"
    }
   ],
   "source": [
    "#describe the data\n",
    "\n",
    "df.describe()"
   ]
  },
  {
   "cell_type": "code",
   "execution_count": 9,
   "id": "7cef01bf",
   "metadata": {},
   "outputs": [
    {
     "data": {
      "text/html": [
       "<div>\n",
       "<style scoped>\n",
       "    .dataframe tbody tr th:only-of-type {\n",
       "        vertical-align: middle;\n",
       "    }\n",
       "\n",
       "    .dataframe tbody tr th {\n",
       "        vertical-align: top;\n",
       "    }\n",
       "\n",
       "    .dataframe thead th {\n",
       "        text-align: right;\n",
       "    }\n",
       "</style>\n",
       "<table border=\"1\" class=\"dataframe\">\n",
       "  <thead>\n",
       "    <tr style=\"text-align: right;\">\n",
       "      <th></th>\n",
       "      <th>Job</th>\n",
       "      <th>Marital Status</th>\n",
       "      <th>Education</th>\n",
       "      <th>Has Default</th>\n",
       "      <th>Housing Loan</th>\n",
       "      <th>Personal Loan</th>\n",
       "      <th>Contact Type</th>\n",
       "      <th>Last Contact Month</th>\n",
       "      <th>Last Contact Day</th>\n",
       "      <th>Prev Campaign Outcome</th>\n",
       "      <th>Subscribed</th>\n",
       "    </tr>\n",
       "  </thead>\n",
       "  <tbody>\n",
       "    <tr>\n",
       "      <th>count</th>\n",
       "      <td>41194</td>\n",
       "      <td>41194</td>\n",
       "      <td>41194</td>\n",
       "      <td>41195</td>\n",
       "      <td>41196</td>\n",
       "      <td>41195</td>\n",
       "      <td>41195</td>\n",
       "      <td>41196</td>\n",
       "      <td>41196</td>\n",
       "      <td>41194</td>\n",
       "      <td>41196</td>\n",
       "    </tr>\n",
       "    <tr>\n",
       "      <th>unique</th>\n",
       "      <td>12</td>\n",
       "      <td>4</td>\n",
       "      <td>8</td>\n",
       "      <td>3</td>\n",
       "      <td>3</td>\n",
       "      <td>3</td>\n",
       "      <td>2</td>\n",
       "      <td>10</td>\n",
       "      <td>5</td>\n",
       "      <td>3</td>\n",
       "      <td>2</td>\n",
       "    </tr>\n",
       "    <tr>\n",
       "      <th>top</th>\n",
       "      <td>admin.</td>\n",
       "      <td>married</td>\n",
       "      <td>university.degree</td>\n",
       "      <td>no</td>\n",
       "      <td>yes</td>\n",
       "      <td>no</td>\n",
       "      <td>cellular</td>\n",
       "      <td>may</td>\n",
       "      <td>thu</td>\n",
       "      <td>nonexistent</td>\n",
       "      <td>no</td>\n",
       "    </tr>\n",
       "    <tr>\n",
       "      <th>freq</th>\n",
       "      <td>10422</td>\n",
       "      <td>24934</td>\n",
       "      <td>12168</td>\n",
       "      <td>32595</td>\n",
       "      <td>21584</td>\n",
       "      <td>33957</td>\n",
       "      <td>26151</td>\n",
       "      <td>13769</td>\n",
       "      <td>8623</td>\n",
       "      <td>35563</td>\n",
       "      <td>36556</td>\n",
       "    </tr>\n",
       "  </tbody>\n",
       "</table>\n",
       "</div>"
      ],
      "text/plain": [
       "           Job Marital Status          Education Has Default Housing Loan  \\\n",
       "count    41194          41194              41194       41195        41196   \n",
       "unique      12              4                  8           3            3   \n",
       "top     admin.        married  university.degree          no          yes   \n",
       "freq     10422          24934              12168       32595        21584   \n",
       "\n",
       "       Personal Loan Contact Type Last Contact Month Last Contact Day  \\\n",
       "count          41195        41195              41196            41196   \n",
       "unique             3            2                 10                5   \n",
       "top               no     cellular                may              thu   \n",
       "freq           33957        26151              13769             8623   \n",
       "\n",
       "       Prev Campaign Outcome Subscribed  \n",
       "count                  41194      41196  \n",
       "unique                     3          2  \n",
       "top              nonexistent         no  \n",
       "freq                   35563      36556  "
      ]
     },
     "execution_count": 9,
     "metadata": {},
     "output_type": "execute_result"
    }
   ],
   "source": [
    "df.describe(include='object')"
   ]
  },
  {
   "cell_type": "markdown",
   "id": "83692cc2",
   "metadata": {},
   "source": [
    "# data cleaning and feature engineering"
   ]
  },
  {
   "cell_type": "code",
   "execution_count": 10,
   "id": "8c2bc417",
   "metadata": {},
   "outputs": [],
   "source": [
    "# as in this data have very less pervantage of null value so we can drop them \n",
    "df.dropna(axis=0,inplace=True)"
   ]
  },
  {
   "cell_type": "code",
   "execution_count": 11,
   "id": "5ef8f72d",
   "metadata": {},
   "outputs": [
    {
     "data": {
      "text/plain": [
       "Age                          0\n",
       "Job                          0\n",
       "Marital Status               0\n",
       "Education                    0\n",
       "Has Default                  0\n",
       "Housing Loan                 0\n",
       "Personal Loan                0\n",
       "Contact Type                 0\n",
       "Last Contact Month           0\n",
       "Last Contact Day             0\n",
       "Contact Duration (sec)       0\n",
       "Campaign Contacts            0\n",
       "Days Since Prev Contact      0\n",
       "Prev Campaign Contacts       0\n",
       "Prev Campaign Outcome        0\n",
       "Employment Variation Rate    0\n",
       "Consumer Price Index         0\n",
       "Consumer Confidence Index    0\n",
       "Euribor 3-month Rate         0\n",
       "No. of Employees             0\n",
       "Subscribed                   0\n",
       "dtype: int64"
      ]
     },
     "execution_count": 11,
     "metadata": {},
     "output_type": "execute_result"
    }
   ],
   "source": [
    "df.isnull().sum()"
   ]
  },
  {
   "cell_type": "code",
   "execution_count": 12,
   "id": "867f4a24",
   "metadata": {},
   "outputs": [
    {
     "data": {
      "text/html": [
       "<div>\n",
       "<style scoped>\n",
       "    .dataframe tbody tr th:only-of-type {\n",
       "        vertical-align: middle;\n",
       "    }\n",
       "\n",
       "    .dataframe tbody tr th {\n",
       "        vertical-align: top;\n",
       "    }\n",
       "\n",
       "    .dataframe thead th {\n",
       "        text-align: right;\n",
       "    }\n",
       "</style>\n",
       "<table border=\"1\" class=\"dataframe\">\n",
       "  <thead>\n",
       "    <tr style=\"text-align: right;\">\n",
       "      <th></th>\n",
       "      <th>Age</th>\n",
       "      <th>Job</th>\n",
       "      <th>Marital Status</th>\n",
       "      <th>Education</th>\n",
       "      <th>Has Default</th>\n",
       "      <th>Housing Loan</th>\n",
       "      <th>Personal Loan</th>\n",
       "      <th>Contact Type</th>\n",
       "      <th>Last Contact Month</th>\n",
       "      <th>Last Contact Day</th>\n",
       "      <th>...</th>\n",
       "      <th>Campaign Contacts</th>\n",
       "      <th>Days Since Prev Contact</th>\n",
       "      <th>Prev Campaign Contacts</th>\n",
       "      <th>Prev Campaign Outcome</th>\n",
       "      <th>Employment Variation Rate</th>\n",
       "      <th>Consumer Price Index</th>\n",
       "      <th>Consumer Confidence Index</th>\n",
       "      <th>Euribor 3-month Rate</th>\n",
       "      <th>No. of Employees</th>\n",
       "      <th>Subscribed</th>\n",
       "    </tr>\n",
       "  </thead>\n",
       "  <tbody>\n",
       "    <tr>\n",
       "      <th>0</th>\n",
       "      <td>56.0</td>\n",
       "      <td>housemaid</td>\n",
       "      <td>married</td>\n",
       "      <td>basic.4y</td>\n",
       "      <td>no</td>\n",
       "      <td>no</td>\n",
       "      <td>no</td>\n",
       "      <td>telephone</td>\n",
       "      <td>may</td>\n",
       "      <td>mon</td>\n",
       "      <td>...</td>\n",
       "      <td>1.0</td>\n",
       "      <td>999.0</td>\n",
       "      <td>0.0</td>\n",
       "      <td>nonexistent</td>\n",
       "      <td>1.1</td>\n",
       "      <td>93.994</td>\n",
       "      <td>-36.4</td>\n",
       "      <td>4.857</td>\n",
       "      <td>5191.0</td>\n",
       "      <td>no</td>\n",
       "    </tr>\n",
       "    <tr>\n",
       "      <th>1</th>\n",
       "      <td>57.0</td>\n",
       "      <td>services</td>\n",
       "      <td>married</td>\n",
       "      <td>high.school</td>\n",
       "      <td>unknown</td>\n",
       "      <td>no</td>\n",
       "      <td>no</td>\n",
       "      <td>telephone</td>\n",
       "      <td>may</td>\n",
       "      <td>mon</td>\n",
       "      <td>...</td>\n",
       "      <td>1.0</td>\n",
       "      <td>999.0</td>\n",
       "      <td>0.0</td>\n",
       "      <td>nonexistent</td>\n",
       "      <td>1.1</td>\n",
       "      <td>93.994</td>\n",
       "      <td>-36.4</td>\n",
       "      <td>4.857</td>\n",
       "      <td>5191.0</td>\n",
       "      <td>no</td>\n",
       "    </tr>\n",
       "    <tr>\n",
       "      <th>2</th>\n",
       "      <td>37.0</td>\n",
       "      <td>services</td>\n",
       "      <td>married</td>\n",
       "      <td>high.school</td>\n",
       "      <td>no</td>\n",
       "      <td>yes</td>\n",
       "      <td>no</td>\n",
       "      <td>telephone</td>\n",
       "      <td>may</td>\n",
       "      <td>mon</td>\n",
       "      <td>...</td>\n",
       "      <td>1.0</td>\n",
       "      <td>999.0</td>\n",
       "      <td>0.0</td>\n",
       "      <td>nonexistent</td>\n",
       "      <td>1.1</td>\n",
       "      <td>93.994</td>\n",
       "      <td>-36.4</td>\n",
       "      <td>4.857</td>\n",
       "      <td>5191.0</td>\n",
       "      <td>no</td>\n",
       "    </tr>\n",
       "    <tr>\n",
       "      <th>3</th>\n",
       "      <td>40.0</td>\n",
       "      <td>admin.</td>\n",
       "      <td>married</td>\n",
       "      <td>basic.6y</td>\n",
       "      <td>no</td>\n",
       "      <td>no</td>\n",
       "      <td>no</td>\n",
       "      <td>telephone</td>\n",
       "      <td>may</td>\n",
       "      <td>mon</td>\n",
       "      <td>...</td>\n",
       "      <td>1.0</td>\n",
       "      <td>999.0</td>\n",
       "      <td>0.0</td>\n",
       "      <td>nonexistent</td>\n",
       "      <td>1.1</td>\n",
       "      <td>93.994</td>\n",
       "      <td>-36.4</td>\n",
       "      <td>4.857</td>\n",
       "      <td>5191.0</td>\n",
       "      <td>no</td>\n",
       "    </tr>\n",
       "    <tr>\n",
       "      <th>4</th>\n",
       "      <td>56.0</td>\n",
       "      <td>services</td>\n",
       "      <td>married</td>\n",
       "      <td>high.school</td>\n",
       "      <td>no</td>\n",
       "      <td>no</td>\n",
       "      <td>yes</td>\n",
       "      <td>telephone</td>\n",
       "      <td>may</td>\n",
       "      <td>mon</td>\n",
       "      <td>...</td>\n",
       "      <td>1.0</td>\n",
       "      <td>999.0</td>\n",
       "      <td>0.0</td>\n",
       "      <td>nonexistent</td>\n",
       "      <td>1.1</td>\n",
       "      <td>93.994</td>\n",
       "      <td>-36.4</td>\n",
       "      <td>4.857</td>\n",
       "      <td>5191.0</td>\n",
       "      <td>no</td>\n",
       "    </tr>\n",
       "  </tbody>\n",
       "</table>\n",
       "<p>5 rows × 21 columns</p>\n",
       "</div>"
      ],
      "text/plain": [
       "    Age        Job Marital Status    Education Has Default Housing Loan  \\\n",
       "0  56.0  housemaid        married     basic.4y          no           no   \n",
       "1  57.0   services        married  high.school     unknown           no   \n",
       "2  37.0   services        married  high.school          no          yes   \n",
       "3  40.0     admin.        married     basic.6y          no           no   \n",
       "4  56.0   services        married  high.school          no           no   \n",
       "\n",
       "  Personal Loan Contact Type Last Contact Month Last Contact Day  ...  \\\n",
       "0            no    telephone                may              mon  ...   \n",
       "1            no    telephone                may              mon  ...   \n",
       "2            no    telephone                may              mon  ...   \n",
       "3            no    telephone                may              mon  ...   \n",
       "4           yes    telephone                may              mon  ...   \n",
       "\n",
       "   Campaign Contacts  Days Since Prev Contact  Prev Campaign Contacts  \\\n",
       "0                1.0                    999.0                     0.0   \n",
       "1                1.0                    999.0                     0.0   \n",
       "2                1.0                    999.0                     0.0   \n",
       "3                1.0                    999.0                     0.0   \n",
       "4                1.0                    999.0                     0.0   \n",
       "\n",
       "   Prev Campaign Outcome Employment Variation Rate  Consumer Price Index  \\\n",
       "0            nonexistent                       1.1                93.994   \n",
       "1            nonexistent                       1.1                93.994   \n",
       "2            nonexistent                       1.1                93.994   \n",
       "3            nonexistent                       1.1                93.994   \n",
       "4            nonexistent                       1.1                93.994   \n",
       "\n",
       "   Consumer Confidence Index  Euribor 3-month Rate  No. of Employees  \\\n",
       "0                      -36.4                 4.857            5191.0   \n",
       "1                      -36.4                 4.857            5191.0   \n",
       "2                      -36.4                 4.857            5191.0   \n",
       "3                      -36.4                 4.857            5191.0   \n",
       "4                      -36.4                 4.857            5191.0   \n",
       "\n",
       "   Subscribed  \n",
       "0          no  \n",
       "1          no  \n",
       "2          no  \n",
       "3          no  \n",
       "4          no  \n",
       "\n",
       "[5 rows x 21 columns]"
      ]
     },
     "execution_count": 12,
     "metadata": {},
     "output_type": "execute_result"
    }
   ],
   "source": [
    "df.head()"
   ]
  },
  {
   "cell_type": "code",
   "execution_count": 13,
   "id": "b5f6284a",
   "metadata": {},
   "outputs": [],
   "source": [
    "#drop the duplicate values\n",
    "\n",
    "df.drop_duplicates(inplace=True)"
   ]
  },
  {
   "cell_type": "code",
   "execution_count": 14,
   "id": "e4b2d1d4",
   "metadata": {},
   "outputs": [
    {
     "data": {
      "text/plain": [
       "0"
      ]
     },
     "execution_count": 14,
     "metadata": {},
     "output_type": "execute_result"
    }
   ],
   "source": [
    "df.duplicated().sum()"
   ]
  },
  {
   "cell_type": "markdown",
   "id": "fc88a95f",
   "metadata": {},
   "source": [
    "#VISULIZATION"
   ]
  },
  {
   "cell_type": "code",
   "execution_count": 15,
   "id": "43ee5264",
   "metadata": {},
   "outputs": [
    {
     "data": {
      "text/plain": [
       "<seaborn.axisgrid.FacetGrid at 0x2afae042be0>"
      ]
     },
     "execution_count": 15,
     "metadata": {},
     "output_type": "execute_result"
    },
    {
     "data": {
      "image/png": "[encoded data removed]",
      "text/plain": [
       "<Figure size 360x360 with 1 Axes>"
      ]
     },
     "metadata": {
      "needs_background": "light"
     },
     "output_type": "display_data"
    }
   ],
   "source": [
    "sns.displot(df['Age'],kde=True,color='r')"
   ]
  },
  {
   "cell_type": "code",
   "execution_count": 16,
   "id": "02f57d09",
   "metadata": {},
   "outputs": [
    {
     "data": {
      "text/plain": [
       "<seaborn.axisgrid.FacetGrid at 0x2afaefca8e0>"
      ]
     },
     "execution_count": 16,
     "metadata": {},
     "output_type": "execute_result"
    },
    {
     "data": {
      "image/png": "[encoded data removed]",
      "text/plain": [
       "<Figure size 360x360 with 1 Axes>"
      ]
     },
     "metadata": {
      "needs_background": "light"
     },
     "output_type": "display_data"
    }
   ],
   "source": [
    "\n",
    "sns.displot(df['Consumer Price Index'],kde=True,color='r')"
   ]
  },
  {
   "cell_type": "code",
   "execution_count": 17,
   "id": "e09f65b8",
   "metadata": {},
   "outputs": [
    {
     "data": {
      "text/plain": [
       "<Axes: xlabel='Age', ylabel='Subscribed'>"
      ]
     },
     "execution_count": 17,
     "metadata": {},
     "output_type": "execute_result"
    },
    {
     "data": {
      "image/png": "[encoded data removed]",
      "text/plain": [
       "<Figure size 576x360 with 1 Axes>"
      ]
     },
     "metadata": {
      "needs_background": "light"
     },
     "output_type": "display_data"
    }
   ],
   "source": [
    "plt.figure(figsize=(8,5))\n",
    "sns.boxplot(x = df['Age'],y = df['Subscribed'])\n",
    "\n",
    "\n",
    "#in this graph we can see that have some outlier in this"
   ]
  },
  {
   "cell_type": "code",
   "execution_count": 18,
   "id": "f86118d8",
   "metadata": {},
   "outputs": [
    {
     "name": "stdout",
     "output_type": "stream",
     "text": [
      "Upper_bond = 69.5 lower_bond = 9.5\n"
     ]
    }
   ],
   "source": [
    "#remove the outlier\n",
    "Q1 = np.percentile(df['Age'],25)\n",
    "Q3 = np.percentile(df['Age'],75)\n",
    "IQR = Q3 - Q1\n",
    "\n",
    "upper_bond = Q3+1.5*IQR\n",
    "lower_bond = Q1-1.5*IQR\n",
    "\n",
    "print(f'Upper_bond = {upper_bond}',f'lower_bond = {lower_bond}')\n"
   ]
  },
  {
   "cell_type": "code",
   "execution_count": 19,
   "id": "2d2b1423",
   "metadata": {},
   "outputs": [],
   "source": [
    "df = df[(df['Age']>=lower_bond) & (df['Age']<=upper_bond)]"
   ]
  },
  {
   "cell_type": "code",
   "execution_count": 20,
   "id": "64903e89",
   "metadata": {},
   "outputs": [
    {
     "data": {
      "text/plain": [
       "<Axes: xlabel='Age', ylabel='Subscribed'>"
      ]
     },
     "execution_count": 20,
     "metadata": {},
     "output_type": "execute_result"
    },
    {
     "data": {
      "image/png": "[encoded data removed]",
      "text/plain": [
       "<Figure size 576x360 with 1 Axes>"
      ]
     },
     "metadata": {
      "needs_background": "light"
     },
     "output_type": "display_data"
    }
   ],
   "source": [
    "plt.figure(figsize=(8,5))\n",
    "sns.boxplot(x = df['Age'],y = df['Subscribed'])"
   ]
  },
  {
   "cell_type": "code",
   "execution_count": 21,
   "id": "088e30e3",
   "metadata": {},
   "outputs": [
    {
     "data": {
      "text/plain": [
       "<seaborn.axisgrid.FacetGrid at 0x2afb1286e50>"
      ]
     },
     "execution_count": 21,
     "metadata": {},
     "output_type": "execute_result"
    },
    {
     "data": {
      "image/png": "[encoded data removed]",
      "text/plain": [
       "<Figure size 360x360 with 1 Axes>"
      ]
     },
     "metadata": {
      "needs_background": "light"
     },
     "output_type": "display_data"
    }
   ],
   "source": [
    "sns.displot(df['Age'],kde=True,color='r')"
   ]
  },
  {
   "cell_type": "code",
   "execution_count": 22,
   "id": "9535374e",
   "metadata": {},
   "outputs": [
    {
     "data": {
      "text/html": [
       "<div>\n",
       "<style scoped>\n",
       "    .dataframe tbody tr th:only-of-type {\n",
       "        vertical-align: middle;\n",
       "    }\n",
       "\n",
       "    .dataframe tbody tr th {\n",
       "        vertical-align: top;\n",
       "    }\n",
       "\n",
       "    .dataframe thead th {\n",
       "        text-align: right;\n",
       "    }\n",
       "</style>\n",
       "<table border=\"1\" class=\"dataframe\">\n",
       "  <thead>\n",
       "    <tr style=\"text-align: right;\">\n",
       "      <th></th>\n",
       "      <th>Age</th>\n",
       "      <th>Job</th>\n",
       "      <th>Marital Status</th>\n",
       "      <th>Education</th>\n",
       "      <th>Has Default</th>\n",
       "      <th>Housing Loan</th>\n",
       "      <th>Personal Loan</th>\n",
       "      <th>Contact Type</th>\n",
       "      <th>Last Contact Month</th>\n",
       "      <th>Last Contact Day</th>\n",
       "      <th>...</th>\n",
       "      <th>Campaign Contacts</th>\n",
       "      <th>Days Since Prev Contact</th>\n",
       "      <th>Prev Campaign Contacts</th>\n",
       "      <th>Prev Campaign Outcome</th>\n",
       "      <th>Employment Variation Rate</th>\n",
       "      <th>Consumer Price Index</th>\n",
       "      <th>Consumer Confidence Index</th>\n",
       "      <th>Euribor 3-month Rate</th>\n",
       "      <th>No. of Employees</th>\n",
       "      <th>Subscribed</th>\n",
       "    </tr>\n",
       "  </thead>\n",
       "  <tbody>\n",
       "    <tr>\n",
       "      <th>0</th>\n",
       "      <td>56.0</td>\n",
       "      <td>housemaid</td>\n",
       "      <td>married</td>\n",
       "      <td>basic.4y</td>\n",
       "      <td>no</td>\n",
       "      <td>no</td>\n",
       "      <td>no</td>\n",
       "      <td>telephone</td>\n",
       "      <td>may</td>\n",
       "      <td>mon</td>\n",
       "      <td>...</td>\n",
       "      <td>1.0</td>\n",
       "      <td>999.0</td>\n",
       "      <td>0.0</td>\n",
       "      <td>nonexistent</td>\n",
       "      <td>1.1</td>\n",
       "      <td>93.994</td>\n",
       "      <td>-36.4</td>\n",
       "      <td>4.857</td>\n",
       "      <td>5191.0</td>\n",
       "      <td>no</td>\n",
       "    </tr>\n",
       "    <tr>\n",
       "      <th>1</th>\n",
       "      <td>57.0</td>\n",
       "      <td>services</td>\n",
       "      <td>married</td>\n",
       "      <td>high.school</td>\n",
       "      <td>unknown</td>\n",
       "      <td>no</td>\n",
       "      <td>no</td>\n",
       "      <td>telephone</td>\n",
       "      <td>may</td>\n",
       "      <td>mon</td>\n",
       "      <td>...</td>\n",
       "      <td>1.0</td>\n",
       "      <td>999.0</td>\n",
       "      <td>0.0</td>\n",
       "      <td>nonexistent</td>\n",
       "      <td>1.1</td>\n",
       "      <td>93.994</td>\n",
       "      <td>-36.4</td>\n",
       "      <td>4.857</td>\n",
       "      <td>5191.0</td>\n",
       "      <td>no</td>\n",
       "    </tr>\n",
       "    <tr>\n",
       "      <th>2</th>\n",
       "      <td>37.0</td>\n",
       "      <td>services</td>\n",
       "      <td>married</td>\n",
       "      <td>high.school</td>\n",
       "      <td>no</td>\n",
       "      <td>yes</td>\n",
       "      <td>no</td>\n",
       "      <td>telephone</td>\n",
       "      <td>may</td>\n",
       "      <td>mon</td>\n",
       "      <td>...</td>\n",
       "      <td>1.0</td>\n",
       "      <td>999.0</td>\n",
       "      <td>0.0</td>\n",
       "      <td>nonexistent</td>\n",
       "      <td>1.1</td>\n",
       "      <td>93.994</td>\n",
       "      <td>-36.4</td>\n",
       "      <td>4.857</td>\n",
       "      <td>5191.0</td>\n",
       "      <td>no</td>\n",
       "    </tr>\n",
       "    <tr>\n",
       "      <th>3</th>\n",
       "      <td>40.0</td>\n",
       "      <td>admin.</td>\n",
       "      <td>married</td>\n",
       "      <td>basic.6y</td>\n",
       "      <td>no</td>\n",
       "      <td>no</td>\n",
       "      <td>no</td>\n",
       "      <td>telephone</td>\n",
       "      <td>may</td>\n",
       "      <td>mon</td>\n",
       "      <td>...</td>\n",
       "      <td>1.0</td>\n",
       "      <td>999.0</td>\n",
       "      <td>0.0</td>\n",
       "      <td>nonexistent</td>\n",
       "      <td>1.1</td>\n",
       "      <td>93.994</td>\n",
       "      <td>-36.4</td>\n",
       "      <td>4.857</td>\n",
       "      <td>5191.0</td>\n",
       "      <td>no</td>\n",
       "    </tr>\n",
       "    <tr>\n",
       "      <th>4</th>\n",
       "      <td>56.0</td>\n",
       "      <td>services</td>\n",
       "      <td>married</td>\n",
       "      <td>high.school</td>\n",
       "      <td>no</td>\n",
       "      <td>no</td>\n",
       "      <td>yes</td>\n",
       "      <td>telephone</td>\n",
       "      <td>may</td>\n",
       "      <td>mon</td>\n",
       "      <td>...</td>\n",
       "      <td>1.0</td>\n",
       "      <td>999.0</td>\n",
       "      <td>0.0</td>\n",
       "      <td>nonexistent</td>\n",
       "      <td>1.1</td>\n",
       "      <td>93.994</td>\n",
       "      <td>-36.4</td>\n",
       "      <td>4.857</td>\n",
       "      <td>5191.0</td>\n",
       "      <td>no</td>\n",
       "    </tr>\n",
       "  </tbody>\n",
       "</table>\n",
       "<p>5 rows × 21 columns</p>\n",
       "</div>"
      ],
      "text/plain": [
       "    Age        Job Marital Status    Education Has Default Housing Loan  \\\n",
       "0  56.0  housemaid        married     basic.4y          no           no   \n",
       "1  57.0   services        married  high.school     unknown           no   \n",
       "2  37.0   services        married  high.school          no          yes   \n",
       "3  40.0     admin.        married     basic.6y          no           no   \n",
       "4  56.0   services        married  high.school          no           no   \n",
       "\n",
       "  Personal Loan Contact Type Last Contact Month Last Contact Day  ...  \\\n",
       "0            no    telephone                may              mon  ...   \n",
       "1            no    telephone                may              mon  ...   \n",
       "2            no    telephone                may              mon  ...   \n",
       "3            no    telephone                may              mon  ...   \n",
       "4           yes    telephone                may              mon  ...   \n",
       "\n",
       "   Campaign Contacts  Days Since Prev Contact  Prev Campaign Contacts  \\\n",
       "0                1.0                    999.0                     0.0   \n",
       "1                1.0                    999.0                     0.0   \n",
       "2                1.0                    999.0                     0.0   \n",
       "3                1.0                    999.0                     0.0   \n",
       "4                1.0                    999.0                     0.0   \n",
       "\n",
       "   Prev Campaign Outcome Employment Variation Rate  Consumer Price Index  \\\n",
       "0            nonexistent                       1.1                93.994   \n",
       "1            nonexistent                       1.1                93.994   \n",
       "2            nonexistent                       1.1                93.994   \n",
       "3            nonexistent                       1.1                93.994   \n",
       "4            nonexistent                       1.1                93.994   \n",
       "\n",
       "   Consumer Confidence Index  Euribor 3-month Rate  No. of Employees  \\\n",
       "0                      -36.4                 4.857            5191.0   \n",
       "1                      -36.4                 4.857            5191.0   \n",
       "2                      -36.4                 4.857            5191.0   \n",
       "3                      -36.4                 4.857            5191.0   \n",
       "4                      -36.4                 4.857            5191.0   \n",
       "\n",
       "   Subscribed  \n",
       "0          no  \n",
       "1          no  \n",
       "2          no  \n",
       "3          no  \n",
       "4          no  \n",
       "\n",
       "[5 rows x 21 columns]"
      ]
     },
     "execution_count": 22,
     "metadata": {},
     "output_type": "execute_result"
    }
   ],
   "source": [
    "df.head()"
   ]
  },
  {
   "cell_type": "code",
   "execution_count": 23,
   "id": "667a0f18",
   "metadata": {},
   "outputs": [
    {
     "data": {
      "text/plain": [
       "<Axes: >"
      ]
     },
     "execution_count": 23,
     "metadata": {},
     "output_type": "execute_result"
    },
    {
     "data": {
      "image/png": "[encoded data removed]",
      "text/plain": [
       "<Figure size 432x288 with 1 Axes>"
      ]
     },
     "metadata": {
      "needs_background": "light"
     },
     "output_type": "display_data"
    }
   ],
   "source": [
    "df['Job'].value_counts().plot(kind='bar')"
   ]
  },
  {
   "cell_type": "code",
   "execution_count": 24,
   "id": "6239b252",
   "metadata": {},
   "outputs": [
    {
     "data": {
      "text/plain": [
       "<Axes: >"
      ]
     },
     "execution_count": 24,
     "metadata": {},
     "output_type": "execute_result"
    },
    {
     "data": {
      "image/png": "[encoded data removed]",
      "text/plain": [
       "<Figure size 432x288 with 1 Axes>"
      ]
     },
     "metadata": {
      "needs_background": "light"
     },
     "output_type": "display_data"
    }
   ],
   "source": [
    "df['Marital Status'].value_counts().plot(kind='bar')"
   ]
  },
  {
   "cell_type": "code",
   "execution_count": 25,
   "id": "788f815e",
   "metadata": {},
   "outputs": [
    {
     "data": {
      "text/plain": [
       "<Axes: >"
      ]
     },
     "execution_count": 25,
     "metadata": {},
     "output_type": "execute_result"
    },
    {
     "data": {
      "image/png": "[encoded data removed]",
      "text/plain": [
       "<Figure size 432x288 with 1 Axes>"
      ]
     },
     "metadata": {
      "needs_background": "light"
     },
     "output_type": "display_data"
    }
   ],
   "source": [
    "df['Education'].value_counts().plot(kind='bar')"
   ]
  },
  {
   "cell_type": "code",
   "execution_count": 26,
   "id": "3c1b6964",
   "metadata": {},
   "outputs": [
    {
     "data": {
      "text/plain": [
       "<Axes: >"
      ]
     },
     "execution_count": 26,
     "metadata": {},
     "output_type": "execute_result"
    },
    {
     "data": {
      "image/png": "[encoded data removed]",
      "text/plain": [
       "<Figure size 432x288 with 1 Axes>"
      ]
     },
     "metadata": {
      "needs_background": "light"
     },
     "output_type": "display_data"
    }
   ],
   "source": [
    "df['Has Default'].value_counts().plot(kind='bar')"
   ]
  },
  {
   "cell_type": "code",
   "execution_count": 27,
   "id": "4fba985f",
   "metadata": {},
   "outputs": [
    {
     "data": {
      "image/png": "[encoded data removed]",
      "text/plain": [
       "<Figure size 603.375x540 with 12 Axes>"
      ]
     },
     "metadata": {
      "needs_background": "light"
     },
     "output_type": "display_data"
    }
   ],
   "source": [
    "sns.pairplot(df[['Age', 'Days Since Prev Contact', 'Campaign Contacts', 'Subscribed']], hue='Subscribed')\n",
    "plt.show()"
   ]
  },
  {
   "cell_type": "code",
   "execution_count": 28,
   "id": "5457e250",
   "metadata": {},
   "outputs": [
    {
     "data": {
      "text/plain": [
       "Index(['Age', 'Job', 'Marital Status', 'Education', 'Has Default',\n",
       "       'Housing Loan', 'Personal Loan', 'Contact Type', 'Last Contact Month',\n",
       "       'Last Contact Day', 'Contact Duration (sec)', 'Campaign Contacts',\n",
       "       'Days Since Prev Contact', 'Prev Campaign Contacts',\n",
       "       'Prev Campaign Outcome', 'Employment Variation Rate',\n",
       "       'Consumer Price Index', 'Consumer Confidence Index',\n",
       "       'Euribor 3-month Rate', 'No. of Employees', 'Subscribed'],\n",
       "      dtype='object')"
      ]
     },
     "execution_count": 28,
     "metadata": {},
     "output_type": "execute_result"
    }
   ],
   "source": [
    "df.columns"
   ]
  },
  {
   "cell_type": "code",
   "execution_count": 29,
   "id": "4afd0317",
   "metadata": {},
   "outputs": [
    {
     "data": {
      "text/html": [
       "<div>\n",
       "<style scoped>\n",
       "    .dataframe tbody tr th:only-of-type {\n",
       "        vertical-align: middle;\n",
       "    }\n",
       "\n",
       "    .dataframe tbody tr th {\n",
       "        vertical-align: top;\n",
       "    }\n",
       "\n",
       "    .dataframe thead th {\n",
       "        text-align: right;\n",
       "    }\n",
       "</style>\n",
       "<table border=\"1\" class=\"dataframe\">\n",
       "  <thead>\n",
       "    <tr style=\"text-align: right;\">\n",
       "      <th></th>\n",
       "      <th>Age</th>\n",
       "      <th>Job</th>\n",
       "      <th>Marital Status</th>\n",
       "      <th>Education</th>\n",
       "      <th>Has Default</th>\n",
       "      <th>Housing Loan</th>\n",
       "      <th>Personal Loan</th>\n",
       "      <th>Contact Type</th>\n",
       "      <th>Last Contact Month</th>\n",
       "      <th>Last Contact Day</th>\n",
       "      <th>...</th>\n",
       "      <th>Campaign Contacts</th>\n",
       "      <th>Days Since Prev Contact</th>\n",
       "      <th>Prev Campaign Contacts</th>\n",
       "      <th>Prev Campaign Outcome</th>\n",
       "      <th>Employment Variation Rate</th>\n",
       "      <th>Consumer Price Index</th>\n",
       "      <th>Consumer Confidence Index</th>\n",
       "      <th>Euribor 3-month Rate</th>\n",
       "      <th>No. of Employees</th>\n",
       "      <th>Subscribed</th>\n",
       "    </tr>\n",
       "  </thead>\n",
       "  <tbody>\n",
       "    <tr>\n",
       "      <th>0</th>\n",
       "      <td>56.0</td>\n",
       "      <td>housemaid</td>\n",
       "      <td>married</td>\n",
       "      <td>basic.4y</td>\n",
       "      <td>no</td>\n",
       "      <td>no</td>\n",
       "      <td>no</td>\n",
       "      <td>telephone</td>\n",
       "      <td>may</td>\n",
       "      <td>mon</td>\n",
       "      <td>...</td>\n",
       "      <td>1.0</td>\n",
       "      <td>999.0</td>\n",
       "      <td>0.0</td>\n",
       "      <td>nonexistent</td>\n",
       "      <td>1.1</td>\n",
       "      <td>93.994</td>\n",
       "      <td>-36.4</td>\n",
       "      <td>4.857</td>\n",
       "      <td>5191.0</td>\n",
       "      <td>no</td>\n",
       "    </tr>\n",
       "    <tr>\n",
       "      <th>1</th>\n",
       "      <td>57.0</td>\n",
       "      <td>services</td>\n",
       "      <td>married</td>\n",
       "      <td>high.school</td>\n",
       "      <td>unknown</td>\n",
       "      <td>no</td>\n",
       "      <td>no</td>\n",
       "      <td>telephone</td>\n",
       "      <td>may</td>\n",
       "      <td>mon</td>\n",
       "      <td>...</td>\n",
       "      <td>1.0</td>\n",
       "      <td>999.0</td>\n",
       "      <td>0.0</td>\n",
       "      <td>nonexistent</td>\n",
       "      <td>1.1</td>\n",
       "      <td>93.994</td>\n",
       "      <td>-36.4</td>\n",
       "      <td>4.857</td>\n",
       "      <td>5191.0</td>\n",
       "      <td>no</td>\n",
       "    </tr>\n",
       "    <tr>\n",
       "      <th>2</th>\n",
       "      <td>37.0</td>\n",
       "      <td>services</td>\n",
       "      <td>married</td>\n",
       "      <td>high.school</td>\n",
       "      <td>no</td>\n",
       "      <td>yes</td>\n",
       "      <td>no</td>\n",
       "      <td>telephone</td>\n",
       "      <td>may</td>\n",
       "      <td>mon</td>\n",
       "      <td>...</td>\n",
       "      <td>1.0</td>\n",
       "      <td>999.0</td>\n",
       "      <td>0.0</td>\n",
       "      <td>nonexistent</td>\n",
       "      <td>1.1</td>\n",
       "      <td>93.994</td>\n",
       "      <td>-36.4</td>\n",
       "      <td>4.857</td>\n",
       "      <td>5191.0</td>\n",
       "      <td>no</td>\n",
       "    </tr>\n",
       "    <tr>\n",
       "      <th>3</th>\n",
       "      <td>40.0</td>\n",
       "      <td>admin.</td>\n",
       "      <td>married</td>\n",
       "      <td>basic.6y</td>\n",
       "      <td>no</td>\n",
       "      <td>no</td>\n",
       "      <td>no</td>\n",
       "      <td>telephone</td>\n",
       "      <td>may</td>\n",
       "      <td>mon</td>\n",
       "      <td>...</td>\n",
       "      <td>1.0</td>\n",
       "      <td>999.0</td>\n",
       "      <td>0.0</td>\n",
       "      <td>nonexistent</td>\n",
       "      <td>1.1</td>\n",
       "      <td>93.994</td>\n",
       "      <td>-36.4</td>\n",
       "      <td>4.857</td>\n",
       "      <td>5191.0</td>\n",
       "      <td>no</td>\n",
       "    </tr>\n",
       "    <tr>\n",
       "      <th>4</th>\n",
       "      <td>56.0</td>\n",
       "      <td>services</td>\n",
       "      <td>married</td>\n",
       "      <td>high.school</td>\n",
       "      <td>no</td>\n",
       "      <td>no</td>\n",
       "      <td>yes</td>\n",
       "      <td>telephone</td>\n",
       "      <td>may</td>\n",
       "      <td>mon</td>\n",
       "      <td>...</td>\n",
       "      <td>1.0</td>\n",
       "      <td>999.0</td>\n",
       "      <td>0.0</td>\n",
       "      <td>nonexistent</td>\n",
       "      <td>1.1</td>\n",
       "      <td>93.994</td>\n",
       "      <td>-36.4</td>\n",
       "      <td>4.857</td>\n",
       "      <td>5191.0</td>\n",
       "      <td>no</td>\n",
       "    </tr>\n",
       "  </tbody>\n",
       "</table>\n",
       "<p>5 rows × 21 columns</p>\n",
       "</div>"
      ],
      "text/plain": [
       "    Age        Job Marital Status    Education Has Default Housing Loan  \\\n",
       "0  56.0  housemaid        married     basic.4y          no           no   \n",
       "1  57.0   services        married  high.school     unknown           no   \n",
       "2  37.0   services        married  high.school          no          yes   \n",
       "3  40.0     admin.        married     basic.6y          no           no   \n",
       "4  56.0   services        married  high.school          no           no   \n",
       "\n",
       "  Personal Loan Contact Type Last Contact Month Last Contact Day  ...  \\\n",
       "0            no    telephone                may              mon  ...   \n",
       "1            no    telephone                may              mon  ...   \n",
       "2            no    telephone                may              mon  ...   \n",
       "3            no    telephone                may              mon  ...   \n",
       "4           yes    telephone                may              mon  ...   \n",
       "\n",
       "   Campaign Contacts  Days Since Prev Contact  Prev Campaign Contacts  \\\n",
       "0                1.0                    999.0                     0.0   \n",
       "1                1.0                    999.0                     0.0   \n",
       "2                1.0                    999.0                     0.0   \n",
       "3                1.0                    999.0                     0.0   \n",
       "4                1.0                    999.0                     0.0   \n",
       "\n",
       "   Prev Campaign Outcome Employment Variation Rate  Consumer Price Index  \\\n",
       "0            nonexistent                       1.1                93.994   \n",
       "1            nonexistent                       1.1                93.994   \n",
       "2            nonexistent                       1.1                93.994   \n",
       "3            nonexistent                       1.1                93.994   \n",
       "4            nonexistent                       1.1                93.994   \n",
       "\n",
       "   Consumer Confidence Index  Euribor 3-month Rate  No. of Employees  \\\n",
       "0                      -36.4                 4.857            5191.0   \n",
       "1                      -36.4                 4.857            5191.0   \n",
       "2                      -36.4                 4.857            5191.0   \n",
       "3                      -36.4                 4.857            5191.0   \n",
       "4                      -36.4                 4.857            5191.0   \n",
       "\n",
       "   Subscribed  \n",
       "0          no  \n",
       "1          no  \n",
       "2          no  \n",
       "3          no  \n",
       "4          no  \n",
       "\n",
       "[5 rows x 21 columns]"
      ]
     },
     "execution_count": 29,
     "metadata": {},
     "output_type": "execute_result"
    }
   ],
   "source": [
    "df.head()"
   ]
  },
  {
   "cell_type": "code",
   "execution_count": 30,
   "id": "052ba6da",
   "metadata": {},
   "outputs": [
    {
     "data": {
      "text/plain": [
       "<Axes: xlabel='Subscribed', ylabel='Days Since Prev Contact'>"
      ]
     },
     "execution_count": 30,
     "metadata": {},
     "output_type": "execute_result"
    },
    {
     "data": {
      "image/png": "[encoded data removed]",
      "text/plain": [
       "<Figure size 720x432 with 1 Axes>"
      ]
     },
     "metadata": {
      "needs_background": "light"
     },
     "output_type": "display_data"
    }
   ],
   "source": [
    "#target Variable  =  Subscribed\n",
    "plt.figure(figsize = (10,6))\n",
    "sns.barplot(data=df,x = df['Subscribed'],y = df['Days Since Prev Contact'],ci=None,orient='v')"
   ]
  },
  {
   "cell_type": "code",
   "execution_count": 31,
   "id": "d7b6726b",
   "metadata": {},
   "outputs": [
    {
     "data": {
      "text/plain": [
       "<Axes: xlabel='Subscribed', ylabel='Prev Campaign Contacts'>"
      ]
     },
     "execution_count": 31,
     "metadata": {},
     "output_type": "execute_result"
    },
    {
     "data": {
      "image/png": "[encoded data removed]",
      "text/plain": [
       "<Figure size 720x432 with 1 Axes>"
      ]
     },
     "metadata": {
      "needs_background": "light"
     },
     "output_type": "display_data"
    }
   ],
   "source": [
    "plt.figure(figsize = (10,6))\n",
    "sns.barplot(data=df,x = df['Subscribed'],y = df['Prev Campaign Contacts'],ci=None,orient='v')"
   ]
  },
  {
   "cell_type": "code",
   "execution_count": 32,
   "id": "e5b7b45c",
   "metadata": {},
   "outputs": [
    {
     "data": {
      "text/plain": [
       "<seaborn.axisgrid.FacetGrid at 0x2afb4e11880>"
      ]
     },
     "execution_count": 32,
     "metadata": {},
     "output_type": "execute_result"
    },
    {
     "data": {
      "text/plain": [
       "<Figure size 720x432 with 0 Axes>"
      ]
     },
     "metadata": {},
     "output_type": "display_data"
    },
    {
     "data": {
      "image/png": "[encoded data removed]",
      "text/plain": [
       "<Figure size 360x360 with 1 Axes>"
      ]
     },
     "metadata": {
      "needs_background": "light"
     },
     "output_type": "display_data"
    }
   ],
   "source": [
    "plt.figure(figsize = (10,6))\n",
    "sns.catplot(data = df, x= 'Subscribed', y = 'Employment Variation Rate')"
   ]
  },
  {
   "cell_type": "code",
   "execution_count": 33,
   "id": "d75d0507",
   "metadata": {},
   "outputs": [
    {
     "data": {
      "text/plain": [
       "<Axes: >"
      ]
     },
     "execution_count": 33,
     "metadata": {},
     "output_type": "execute_result"
    },
    {
     "data": {
      "image/png": "[encoded data removed]",
      "text/plain": [
       "<Figure size 720x576 with 2 Axes>"
      ]
     },
     "metadata": {},
     "output_type": "display_data"
    }
   ],
   "source": [
    "plt.figure(figsize=(10,8),facecolor='grey')\n",
    "sns.heatmap(df.corr(),annot=True)"
   ]
  },
  {
   "cell_type": "code",
   "execution_count": 34,
   "id": "e5da7cc5",
   "metadata": {},
   "outputs": [],
   "source": [
    "from sklearn.model_selection import train_test_split\n",
    "\n",
    "from sklearn.linear_model import LogisticRegression\n",
    "from sklearn.preprocessing import MinMaxScaler,StandardScaler\n",
    "from sklearn.metrics import accuracy_score\n",
    "from sklearn.preprocessing import OneHotEncoder,LabelEncoder\n",
    "from sklearn.decomposition import PCA\n"
   ]
  },
  {
   "cell_type": "code",
   "execution_count": 35,
   "id": "03b91d7d",
   "metadata": {},
   "outputs": [
    {
     "data": {
      "text/plain": [
       "(40708, 1)"
      ]
     },
     "execution_count": 35,
     "metadata": {},
     "output_type": "execute_result"
    }
   ],
   "source": [
    "X = df.iloc[:,0:20]\n",
    "y = df.iloc[:,20:]\n",
    "y.shape"
   ]
  },
  {
   "cell_type": "code",
   "execution_count": 36,
   "id": "10d60e2e",
   "metadata": {},
   "outputs": [
    {
     "data": {
      "text/html": [
       "<div>\n",
       "<style scoped>\n",
       "    .dataframe tbody tr th:only-of-type {\n",
       "        vertical-align: middle;\n",
       "    }\n",
       "\n",
       "    .dataframe tbody tr th {\n",
       "        vertical-align: top;\n",
       "    }\n",
       "\n",
       "    .dataframe thead th {\n",
       "        text-align: right;\n",
       "    }\n",
       "</style>\n",
       "<table border=\"1\" class=\"dataframe\">\n",
       "  <thead>\n",
       "    <tr style=\"text-align: right;\">\n",
       "      <th></th>\n",
       "      <th>Age</th>\n",
       "      <th>Job</th>\n",
       "      <th>Marital Status</th>\n",
       "      <th>Education</th>\n",
       "      <th>Has Default</th>\n",
       "      <th>Housing Loan</th>\n",
       "      <th>Personal Loan</th>\n",
       "      <th>Contact Type</th>\n",
       "      <th>Last Contact Month</th>\n",
       "      <th>Last Contact Day</th>\n",
       "      <th>Contact Duration (sec)</th>\n",
       "      <th>Campaign Contacts</th>\n",
       "      <th>Days Since Prev Contact</th>\n",
       "      <th>Prev Campaign Contacts</th>\n",
       "      <th>Prev Campaign Outcome</th>\n",
       "      <th>Employment Variation Rate</th>\n",
       "      <th>Consumer Price Index</th>\n",
       "      <th>Consumer Confidence Index</th>\n",
       "      <th>Euribor 3-month Rate</th>\n",
       "      <th>No. of Employees</th>\n",
       "    </tr>\n",
       "  </thead>\n",
       "  <tbody>\n",
       "    <tr>\n",
       "      <th>0</th>\n",
       "      <td>56.0</td>\n",
       "      <td>housemaid</td>\n",
       "      <td>married</td>\n",
       "      <td>basic.4y</td>\n",
       "      <td>no</td>\n",
       "      <td>no</td>\n",
       "      <td>no</td>\n",
       "      <td>telephone</td>\n",
       "      <td>may</td>\n",
       "      <td>mon</td>\n",
       "      <td>261.0</td>\n",
       "      <td>1.0</td>\n",
       "      <td>999.0</td>\n",
       "      <td>0.0</td>\n",
       "      <td>nonexistent</td>\n",
       "      <td>1.1</td>\n",
       "      <td>93.994</td>\n",
       "      <td>-36.4</td>\n",
       "      <td>4.857</td>\n",
       "      <td>5191.0</td>\n",
       "    </tr>\n",
       "    <tr>\n",
       "      <th>1</th>\n",
       "      <td>57.0</td>\n",
       "      <td>services</td>\n",
       "      <td>married</td>\n",
       "      <td>high.school</td>\n",
       "      <td>unknown</td>\n",
       "      <td>no</td>\n",
       "      <td>no</td>\n",
       "      <td>telephone</td>\n",
       "      <td>may</td>\n",
       "      <td>mon</td>\n",
       "      <td>149.0</td>\n",
       "      <td>1.0</td>\n",
       "      <td>999.0</td>\n",
       "      <td>0.0</td>\n",
       "      <td>nonexistent</td>\n",
       "      <td>1.1</td>\n",
       "      <td>93.994</td>\n",
       "      <td>-36.4</td>\n",
       "      <td>4.857</td>\n",
       "      <td>5191.0</td>\n",
       "    </tr>\n",
       "    <tr>\n",
       "      <th>2</th>\n",
       "      <td>37.0</td>\n",
       "      <td>services</td>\n",
       "      <td>married</td>\n",
       "      <td>high.school</td>\n",
       "      <td>no</td>\n",
       "      <td>yes</td>\n",
       "      <td>no</td>\n",
       "      <td>telephone</td>\n",
       "      <td>may</td>\n",
       "      <td>mon</td>\n",
       "      <td>226.0</td>\n",
       "      <td>1.0</td>\n",
       "      <td>999.0</td>\n",
       "      <td>0.0</td>\n",
       "      <td>nonexistent</td>\n",
       "      <td>1.1</td>\n",
       "      <td>93.994</td>\n",
       "      <td>-36.4</td>\n",
       "      <td>4.857</td>\n",
       "      <td>5191.0</td>\n",
       "    </tr>\n",
       "    <tr>\n",
       "      <th>3</th>\n",
       "      <td>40.0</td>\n",
       "      <td>admin.</td>\n",
       "      <td>married</td>\n",
       "      <td>basic.6y</td>\n",
       "      <td>no</td>\n",
       "      <td>no</td>\n",
       "      <td>no</td>\n",
       "      <td>telephone</td>\n",
       "      <td>may</td>\n",
       "      <td>mon</td>\n",
       "      <td>151.0</td>\n",
       "      <td>1.0</td>\n",
       "      <td>999.0</td>\n",
       "      <td>0.0</td>\n",
       "      <td>nonexistent</td>\n",
       "      <td>1.1</td>\n",
       "      <td>93.994</td>\n",
       "      <td>-36.4</td>\n",
       "      <td>4.857</td>\n",
       "      <td>5191.0</td>\n",
       "    </tr>\n",
       "    <tr>\n",
       "      <th>4</th>\n",
       "      <td>56.0</td>\n",
       "      <td>services</td>\n",
       "      <td>married</td>\n",
       "      <td>high.school</td>\n",
       "      <td>no</td>\n",
       "      <td>no</td>\n",
       "      <td>yes</td>\n",
       "      <td>telephone</td>\n",
       "      <td>may</td>\n",
       "      <td>mon</td>\n",
       "      <td>307.0</td>\n",
       "      <td>1.0</td>\n",
       "      <td>999.0</td>\n",
       "      <td>0.0</td>\n",
       "      <td>nonexistent</td>\n",
       "      <td>1.1</td>\n",
       "      <td>93.994</td>\n",
       "      <td>-36.4</td>\n",
       "      <td>4.857</td>\n",
       "      <td>5191.0</td>\n",
       "    </tr>\n",
       "    <tr>\n",
       "      <th>...</th>\n",
       "      <td>...</td>\n",
       "      <td>...</td>\n",
       "      <td>...</td>\n",
       "      <td>...</td>\n",
       "      <td>...</td>\n",
       "      <td>...</td>\n",
       "      <td>...</td>\n",
       "      <td>...</td>\n",
       "      <td>...</td>\n",
       "      <td>...</td>\n",
       "      <td>...</td>\n",
       "      <td>...</td>\n",
       "      <td>...</td>\n",
       "      <td>...</td>\n",
       "      <td>...</td>\n",
       "      <td>...</td>\n",
       "      <td>...</td>\n",
       "      <td>...</td>\n",
       "      <td>...</td>\n",
       "      <td>...</td>\n",
       "    </tr>\n",
       "    <tr>\n",
       "      <th>41181</th>\n",
       "      <td>37.0</td>\n",
       "      <td>admin.</td>\n",
       "      <td>married</td>\n",
       "      <td>university.degree</td>\n",
       "      <td>no</td>\n",
       "      <td>yes</td>\n",
       "      <td>no</td>\n",
       "      <td>cellular</td>\n",
       "      <td>nov</td>\n",
       "      <td>fri</td>\n",
       "      <td>281.0</td>\n",
       "      <td>1.0</td>\n",
       "      <td>999.0</td>\n",
       "      <td>0.0</td>\n",
       "      <td>nonexistent</td>\n",
       "      <td>-1.1</td>\n",
       "      <td>94.767</td>\n",
       "      <td>-50.8</td>\n",
       "      <td>1.028</td>\n",
       "      <td>4963.6</td>\n",
       "    </tr>\n",
       "    <tr>\n",
       "      <th>41182</th>\n",
       "      <td>29.0</td>\n",
       "      <td>unemployed</td>\n",
       "      <td>single</td>\n",
       "      <td>basic.4y</td>\n",
       "      <td>no</td>\n",
       "      <td>yes</td>\n",
       "      <td>no</td>\n",
       "      <td>cellular</td>\n",
       "      <td>nov</td>\n",
       "      <td>fri</td>\n",
       "      <td>112.0</td>\n",
       "      <td>1.0</td>\n",
       "      <td>9.0</td>\n",
       "      <td>1.0</td>\n",
       "      <td>success</td>\n",
       "      <td>-1.1</td>\n",
       "      <td>94.767</td>\n",
       "      <td>-50.8</td>\n",
       "      <td>1.028</td>\n",
       "      <td>4963.6</td>\n",
       "    </tr>\n",
       "    <tr>\n",
       "      <th>41184</th>\n",
       "      <td>46.0</td>\n",
       "      <td>blue-collar</td>\n",
       "      <td>married</td>\n",
       "      <td>professional.course</td>\n",
       "      <td>no</td>\n",
       "      <td>no</td>\n",
       "      <td>no</td>\n",
       "      <td>cellular</td>\n",
       "      <td>nov</td>\n",
       "      <td>fri</td>\n",
       "      <td>383.0</td>\n",
       "      <td>1.0</td>\n",
       "      <td>999.0</td>\n",
       "      <td>0.0</td>\n",
       "      <td>nonexistent</td>\n",
       "      <td>-1.1</td>\n",
       "      <td>94.767</td>\n",
       "      <td>-50.8</td>\n",
       "      <td>1.028</td>\n",
       "      <td>4963.6</td>\n",
       "    </tr>\n",
       "    <tr>\n",
       "      <th>41185</th>\n",
       "      <td>56.0</td>\n",
       "      <td>retired</td>\n",
       "      <td>married</td>\n",
       "      <td>university.degree</td>\n",
       "      <td>no</td>\n",
       "      <td>yes</td>\n",
       "      <td>no</td>\n",
       "      <td>cellular</td>\n",
       "      <td>nov</td>\n",
       "      <td>fri</td>\n",
       "      <td>189.0</td>\n",
       "      <td>2.0</td>\n",
       "      <td>999.0</td>\n",
       "      <td>0.0</td>\n",
       "      <td>nonexistent</td>\n",
       "      <td>-1.1</td>\n",
       "      <td>94.767</td>\n",
       "      <td>-50.8</td>\n",
       "      <td>1.028</td>\n",
       "      <td>4963.6</td>\n",
       "    </tr>\n",
       "    <tr>\n",
       "      <th>41186</th>\n",
       "      <td>44.0</td>\n",
       "      <td>technician</td>\n",
       "      <td>married</td>\n",
       "      <td>professional.course</td>\n",
       "      <td>no</td>\n",
       "      <td>no</td>\n",
       "      <td>no</td>\n",
       "      <td>cellular</td>\n",
       "      <td>nov</td>\n",
       "      <td>fri</td>\n",
       "      <td>442.0</td>\n",
       "      <td>1.0</td>\n",
       "      <td>999.0</td>\n",
       "      <td>0.0</td>\n",
       "      <td>nonexistent</td>\n",
       "      <td>-1.1</td>\n",
       "      <td>94.767</td>\n",
       "      <td>-50.8</td>\n",
       "      <td>1.028</td>\n",
       "      <td>4963.6</td>\n",
       "    </tr>\n",
       "  </tbody>\n",
       "</table>\n",
       "<p>40708 rows × 20 columns</p>\n",
       "</div>"
      ],
      "text/plain": [
       "        Age          Job Marital Status            Education Has Default  \\\n",
       "0      56.0    housemaid        married             basic.4y          no   \n",
       "1      57.0     services        married          high.school     unknown   \n",
       "2      37.0     services        married          high.school          no   \n",
       "3      40.0       admin.        married             basic.6y          no   \n",
       "4      56.0     services        married          high.school          no   \n",
       "...     ...          ...            ...                  ...         ...   \n",
       "41181  37.0       admin.        married    university.degree          no   \n",
       "41182  29.0   unemployed         single             basic.4y          no   \n",
       "41184  46.0  blue-collar        married  professional.course          no   \n",
       "41185  56.0      retired        married    university.degree          no   \n",
       "41186  44.0   technician        married  professional.course          no   \n",
       "\n",
       "      Housing Loan Personal Loan Contact Type Last Contact Month  \\\n",
       "0               no            no    telephone                may   \n",
       "1               no            no    telephone                may   \n",
       "2              yes            no    telephone                may   \n",
       "3               no            no    telephone                may   \n",
       "4               no           yes    telephone                may   \n",
       "...            ...           ...          ...                ...   \n",
       "41181          yes            no     cellular                nov   \n",
       "41182          yes            no     cellular                nov   \n",
       "41184           no            no     cellular                nov   \n",
       "41185          yes            no     cellular                nov   \n",
       "41186           no            no     cellular                nov   \n",
       "\n",
       "      Last Contact Day  Contact Duration (sec)  Campaign Contacts  \\\n",
       "0                  mon                   261.0                1.0   \n",
       "1                  mon                   149.0                1.0   \n",
       "2                  mon                   226.0                1.0   \n",
       "3                  mon                   151.0                1.0   \n",
       "4                  mon                   307.0                1.0   \n",
       "...                ...                     ...                ...   \n",
       "41181              fri                   281.0                1.0   \n",
       "41182              fri                   112.0                1.0   \n",
       "41184              fri                   383.0                1.0   \n",
       "41185              fri                   189.0                2.0   \n",
       "41186              fri                   442.0                1.0   \n",
       "\n",
       "       Days Since Prev Contact  Prev Campaign Contacts Prev Campaign Outcome  \\\n",
       "0                        999.0                     0.0           nonexistent   \n",
       "1                        999.0                     0.0           nonexistent   \n",
       "2                        999.0                     0.0           nonexistent   \n",
       "3                        999.0                     0.0           nonexistent   \n",
       "4                        999.0                     0.0           nonexistent   \n",
       "...                        ...                     ...                   ...   \n",
       "41181                    999.0                     0.0           nonexistent   \n",
       "41182                      9.0                     1.0               success   \n",
       "41184                    999.0                     0.0           nonexistent   \n",
       "41185                    999.0                     0.0           nonexistent   \n",
       "41186                    999.0                     0.0           nonexistent   \n",
       "\n",
       "       Employment Variation Rate  Consumer Price Index  \\\n",
       "0                            1.1                93.994   \n",
       "1                            1.1                93.994   \n",
       "2                            1.1                93.994   \n",
       "3                            1.1                93.994   \n",
       "4                            1.1                93.994   \n",
       "...                          ...                   ...   \n",
       "41181                       -1.1                94.767   \n",
       "41182                       -1.1                94.767   \n",
       "41184                       -1.1                94.767   \n",
       "41185                       -1.1                94.767   \n",
       "41186                       -1.1                94.767   \n",
       "\n",
       "       Consumer Confidence Index  Euribor 3-month Rate  No. of Employees  \n",
       "0                          -36.4                 4.857            5191.0  \n",
       "1                          -36.4                 4.857            5191.0  \n",
       "2                          -36.4                 4.857            5191.0  \n",
       "3                          -36.4                 4.857            5191.0  \n",
       "4                          -36.4                 4.857            5191.0  \n",
       "...                          ...                   ...               ...  \n",
       "41181                      -50.8                 1.028            4963.6  \n",
       "41182                      -50.8                 1.028            4963.6  \n",
       "41184                      -50.8                 1.028            4963.6  \n",
       "41185                      -50.8                 1.028            4963.6  \n",
       "41186                      -50.8                 1.028            4963.6  \n",
       "\n",
       "[40708 rows x 20 columns]"
      ]
     },
     "execution_count": 36,
     "metadata": {},
     "output_type": "execute_result"
    }
   ],
   "source": [
    "X"
   ]
  },
  {
   "cell_type": "code",
   "execution_count": 37,
   "id": "6d3c0502",
   "metadata": {},
   "outputs": [],
   "source": [
    "X_train, X_test, y_train, y_test = train_test_split(X, y, test_size=0.2, random_state=42)"
   ]
  },
  {
   "cell_type": "code",
   "execution_count": 38,
   "id": "a1fc5c65",
   "metadata": {},
   "outputs": [],
   "source": [
    "OH = OneHotEncoder(sparse=False,drop='first')\n"
   ]
  },
  {
   "cell_type": "code",
   "execution_count": 39,
   "id": "dca3d20c",
   "metadata": {},
   "outputs": [
    {
     "data": {
      "text/plain": [
       "(32566, 20)"
      ]
     },
     "execution_count": 39,
     "metadata": {},
     "output_type": "execute_result"
    }
   ],
   "source": [
    "X_train.shape"
   ]
  },
  {
   "cell_type": "code",
   "execution_count": 40,
   "id": "977c4d5b",
   "metadata": {},
   "outputs": [
    {
     "data": {
      "text/plain": [
       "(8142, 20)"
      ]
     },
     "execution_count": 40,
     "metadata": {},
     "output_type": "execute_result"
    }
   ],
   "source": [
    "X_test.shape"
   ]
  },
  {
   "cell_type": "code",
   "execution_count": 41,
   "id": "f3fac4ec",
   "metadata": {},
   "outputs": [
    {
     "name": "stdout",
     "output_type": "stream",
     "text": [
      "Categorical Columns: ['Job', 'Marital Status', 'Education', 'Has Default', 'Housing Loan', 'Personal Loan', 'Contact Type', 'Last Contact Month', 'Last Contact Day', 'Prev Campaign Outcome']\n"
     ]
    }
   ],
   "source": [
    "categorical_columns = [col for col in X_train.columns if X_train[col].dtype == 'object']\n",
    "print(\"Categorical Columns:\", categorical_columns)"
   ]
  },
  {
   "cell_type": "markdown",
   "id": "3aa053d8",
   "metadata": {},
   "source": [
    "# ColumnTransformers"
   ]
  },
  {
   "cell_type": "code",
   "execution_count": 45,
   "id": "8ae45e79",
   "metadata": {},
   "outputs": [],
   "source": [
    "from sklearn.compose import ColumnTransformer\n",
    "Tranformer = ColumnTransformer(transformers=[('Tfn1',OneHotEncoder(sparse=True,drop='first')\n",
    ",['Job', 'Marital Status', 'Education', 'Has Default', 'Housing Loan', 'Personal Loan', 'Contact Type', 'Last Contact Month', 'Last Contact Day', 'Prev Campaign Outcome'])]\n",
    ",remainder='passthrough')"
   ]
  },
  {
   "cell_type": "code",
   "execution_count": 46,
   "id": "5ce6c2e0",
   "metadata": {},
   "outputs": [],
   "source": [
    "X_train_transformer = Tranformer.fit_transform(X_train)\n",
    "X_test_transformer = Tranformer.transform(X_test)"
   ]
  },
  {
   "cell_type": "code",
   "execution_count": 47,
   "id": "98aa9f19",
   "metadata": {},
   "outputs": [
    {
     "data": {
      "text/plain": [
       "(8142, 53)"
      ]
     },
     "execution_count": 47,
     "metadata": {},
     "output_type": "execute_result"
    }
   ],
   "source": [
    "X_test_transformer.shape"
   ]
  },
  {
   "cell_type": "code",
   "execution_count": 48,
   "id": "41e80d82",
   "metadata": {},
   "outputs": [
    {
     "data": {
      "text/plain": [
       "(32566, 20)"
      ]
     },
     "execution_count": 48,
     "metadata": {},
     "output_type": "execute_result"
    }
   ],
   "source": [
    "X_train.shape"
   ]
  },
  {
   "cell_type": "code",
   "execution_count": 49,
   "id": "69c94612",
   "metadata": {},
   "outputs": [],
   "source": [
    "y_train = OH.fit_transform(y_train)\n",
    "y_test = OH.fit_transform(y_test)"
   ]
  },
  {
   "cell_type": "code",
   "execution_count": 50,
   "id": "5c3e36d0",
   "metadata": {},
   "outputs": [
    {
     "data": {
      "text/plain": [
       "(8142, 1)"
      ]
     },
     "execution_count": 50,
     "metadata": {},
     "output_type": "execute_result"
    }
   ],
   "source": [
    "y_test.shape"
   ]
  },
  {
   "cell_type": "markdown",
   "id": "f4cc8fcd",
   "metadata": {},
   "source": [
    "# logistic_regression"
   ]
  },
  {
   "cell_type": "code",
   "execution_count": 51,
   "id": "7a5e0cc9",
   "metadata": {},
   "outputs": [],
   "source": [
    "LOG = LogisticRegression()"
   ]
  },
  {
   "cell_type": "code",
   "execution_count": 52,
   "id": "5fa8be57",
   "metadata": {},
   "outputs": [
    {
     "data": {
      "text/plain": [
       "LogisticRegression()"
      ]
     },
     "execution_count": 52,
     "metadata": {},
     "output_type": "execute_result"
    }
   ],
   "source": [
    "LOG.fit(X_train_transformer,y_train)"
   ]
  },
  {
   "cell_type": "code",
   "execution_count": 53,
   "id": "a998655d",
   "metadata": {},
   "outputs": [
    {
     "data": {
      "text/plain": [
       "(8142, 53)"
      ]
     },
     "execution_count": 53,
     "metadata": {},
     "output_type": "execute_result"
    }
   ],
   "source": [
    "X_test_transformer.shape"
   ]
  },
  {
   "cell_type": "code",
   "execution_count": 57,
   "id": "9c4b4996",
   "metadata": {},
   "outputs": [],
   "source": [
    "y_pred = LOG.predict(X_test_transformer)"
   ]
  },
  {
   "cell_type": "code",
   "execution_count": 59,
   "id": "20ce920c",
   "metadata": {},
   "outputs": [
    {
     "data": {
      "text/plain": [
       "0.9103414394497666"
      ]
     },
     "execution_count": 59,
     "metadata": {},
     "output_type": "execute_result"
    }
   ],
   "source": [
    "accuracy_score(y_test,y_pred)"
   ]
  },
  {
   "cell_type": "code",
   "execution_count": null,
   "id": "1c759ea0",
   "metadata": {},
   "outputs": [],
   "source": []
  },
  {
   "cell_type": "code",
   "execution_count": null,
   "id": "f692ea9f",
   "metadata": {},
   "outputs": [],
   "source": []
  },
  {
   "cell_type": "code",
   "execution_count": null,
   "id": "d07da76b",
   "metadata": {},
   "outputs": [],
   "source": []
  },
  {
   "cell_type": "code",
   "execution_count": null,
   "id": "c55ed815",
   "metadata": {},
   "outputs": [],
   "source": []
  },
  {
   "cell_type": "code",
   "execution_count": 56,
   "id": "66bd72a1",
   "metadata": {},
   "outputs": [],
   "source": []
  },
  {
   "cell_type": "code",
   "execution_count": 55,
   "id": "91ee992d",
   "metadata": {},
   "outputs": [],
   "source": []
  }
 ],
 "metadata": {
  "kernelspec": {
   "display_name": "Python 3",
   "language": "python",
   "name": "python3"
  },
  "language_info": {
   "codemirror_mode": {
    "name": "ipython",
    "version": 3
   },
   "file_extension": ".py",
   "mimetype": "text/x-python",
   "name": "python",
   "nbconvert_exporter": "python",
   "pygments_lexer": "ipython3",
   "version": "3.8.8"
  }
 },
 "nbformat": 4,
 "nbformat_minor": 5
}
